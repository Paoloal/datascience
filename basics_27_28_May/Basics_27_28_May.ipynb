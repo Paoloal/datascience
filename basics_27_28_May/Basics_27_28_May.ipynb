{
 "cells": [
  {
   "cell_type": "markdown",
   "metadata": {},
   "source": [
    "Date: 27/05/2024 & 28/05/2024\n",
    "\n",
    "Part 1: Start with Jupyter Notebook & Learn Basics Syntax\n",
    "\n",
    "**Topics**\n",
    "* Basic Arithmetic Operations\n",
    "* Control and Conditional Structures\n",
    "* Looping - for, while loops\n",
    "* User Input\n",
    "* Strings\n",
    "* Integers\n",
    "* Floating Values\n",
    "* Typecasting \n"
   ]
  },
  {
   "cell_type": "code",
   "execution_count": null,
   "metadata": {},
   "outputs": [],
   "source": []
  }
 ],
 "metadata": {
  "language_info": {
   "name": "python"
  }
 },
 "nbformat": 4,
 "nbformat_minor": 2
}
